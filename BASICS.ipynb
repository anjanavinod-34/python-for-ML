{
 "cells": [
  {
   "cell_type": "markdown",
   "id": "f19e74bc-49e0-492f-98ad-0d8279801643",
   "metadata": {},
   "source": [
    "# BASICS OF `PYTHON` CODING\n",
    " In this notebook we will explain BASIC `PYTHON` FOR MACHINE LEARNING."
   ]
  },
  {
   "cell_type": "markdown",
   "id": "b23ca01b-7969-4731-93ca-9d1e1b4e182d",
   "metadata": {
    "tags": []
   },
   "source": [
    "## Derived Datatypes in `PYTHON`"
   ]
  },
  {
   "cell_type": "markdown",
   "id": "29382bfb-39c3-4868-a1e7-920232314a0f",
   "metadata": {},
   "source": [
    ">**NOTE**  In Python `int`,`float`,`str` etc are atomic datatypes and no declaration is required ."
   ]
  },
  {
   "cell_type": "code",
   "execution_count": 2,
   "id": "668e8ed3-1923-458d-b0ff-a3767cedd33a",
   "metadata": {},
   "outputs": [],
   "source": [
    "my_list=[1,2,3]"
   ]
  },
  {
   "cell_type": "code",
   "execution_count": 3,
   "id": "0b18cf5d-22f1-4ce6-ac95-7f03052653e1",
   "metadata": {},
   "outputs": [
    {
     "data": {
      "text/plain": [
       "[1, 2, 3]"
      ]
     },
     "execution_count": 3,
     "metadata": {},
     "output_type": "execute_result"
    }
   ],
   "source": [
    "my_list"
   ]
  },
  {
   "cell_type": "code",
   "execution_count": 4,
   "id": "958ac450-f79f-4cea-86d3-f8ae36fca563",
   "metadata": {},
   "outputs": [],
   "source": [
    "my_list=[1,'a',2,'b']"
   ]
  },
  {
   "cell_type": "code",
   "execution_count": 5,
   "id": "c1bc7853-12ed-47b3-b9ae-b36c7cde9d18",
   "metadata": {},
   "outputs": [
    {
     "data": {
      "text/plain": [
       "[1, 'a', 2, 'b']"
      ]
     },
     "execution_count": 5,
     "metadata": {},
     "output_type": "execute_result"
    }
   ],
   "source": [
    "my_list\n"
   ]
  },
  {
   "cell_type": "code",
   "execution_count": 6,
   "id": "aa601e4f-4f20-4d01-9d6d-21e5638867e1",
   "metadata": {},
   "outputs": [
    {
     "data": {
      "text/plain": [
       "1"
      ]
     },
     "execution_count": 6,
     "metadata": {},
     "output_type": "execute_result"
    }
   ],
   "source": [
    "my_list[0]"
   ]
  },
  {
   "cell_type": "code",
   "execution_count": 7,
   "id": "228114c3-228d-48db-9919-3c7f77d2260b",
   "metadata": {},
   "outputs": [
    {
     "data": {
      "text/plain": [
       "'a'"
      ]
     },
     "execution_count": 7,
     "metadata": {},
     "output_type": "execute_result"
    }
   ],
   "source": [
    "my_list[1]"
   ]
  },
  {
   "cell_type": "code",
   "execution_count": 9,
   "id": "c58a515d-9e84-4fcd-a8ea-0da6f9855656",
   "metadata": {},
   "outputs": [
    {
     "data": {
      "text/plain": [
       "[1, 'a', 2, 'b']"
      ]
     },
     "execution_count": 9,
     "metadata": {},
     "output_type": "execute_result"
    }
   ],
   "source": [
    "my_list"
   ]
  },
  {
   "cell_type": "code",
   "execution_count": 10,
   "id": "a46e6de5-aa2c-4eb5-ad82-2893d0b64381",
   "metadata": {},
   "outputs": [],
   "source": [
    "my_list=[1,2,[200,300]]\n"
   ]
  },
  {
   "cell_type": "code",
   "execution_count": 11,
   "id": "8e0ae677-54de-4ebc-8ae9-1b0cfdec2dd0",
   "metadata": {},
   "outputs": [
    {
     "data": {
      "text/plain": [
       "300"
      ]
     },
     "execution_count": 11,
     "metadata": {},
     "output_type": "execute_result"
    }
   ],
   "source": [
    "my_list[2][1]"
   ]
  },
  {
   "cell_type": "code",
   "execution_count": 18,
   "id": "80c4b248-911a-40f0-9810-09e9eb417a19",
   "metadata": {},
   "outputs": [
    {
     "data": {
      "text/plain": [
       "[1, 2, [200, 300]]"
      ]
     },
     "execution_count": 18,
     "metadata": {},
     "output_type": "execute_result"
    }
   ],
   "source": [
    "my_list"
   ]
  },
  {
   "cell_type": "code",
   "execution_count": 19,
   "id": "150255eb-b98c-4076-939a-f270b8dadb14",
   "metadata": {},
   "outputs": [],
   "source": [
    "my_list=[1,2,3,4]"
   ]
  },
  {
   "cell_type": "code",
   "execution_count": 20,
   "id": "0863da6d-3b8d-4646-a806-1914bbda8357",
   "metadata": {},
   "outputs": [
    {
     "data": {
      "text/plain": [
       "[1, 2, 3, 4]"
      ]
     },
     "execution_count": 20,
     "metadata": {},
     "output_type": "execute_result"
    }
   ],
   "source": [
    "my_list\n"
   ]
  },
  {
   "cell_type": "code",
   "execution_count": 21,
   "id": "be2c8bd1-6e0a-433d-ab3d-cd912601cfe2",
   "metadata": {},
   "outputs": [],
   "source": [
    "my_list[0]=\"new\"\n"
   ]
  },
  {
   "cell_type": "code",
   "execution_count": 22,
   "id": "dceeb49d-1d4a-41a3-ad77-a23f3c902aae",
   "metadata": {},
   "outputs": [
    {
     "data": {
      "text/plain": [
       "['new', 2, 3, 4]"
      ]
     },
     "execution_count": 22,
     "metadata": {},
     "output_type": "execute_result"
    }
   ],
   "source": [
    "my_list\n"
   ]
  },
  {
   "cell_type": "code",
   "execution_count": 23,
   "id": "37176909-2569-4f00-b664-3d8b1ab48560",
   "metadata": {},
   "outputs": [],
   "source": [
    "my_list.append('e')"
   ]
  },
  {
   "cell_type": "code",
   "execution_count": 24,
   "id": "2f103489-6034-4a6e-a92b-0440c28c0637",
   "metadata": {},
   "outputs": [
    {
     "data": {
      "text/plain": [
       "['new', 2, 3, 4, 'e']"
      ]
     },
     "execution_count": 24,
     "metadata": {},
     "output_type": "execute_result"
    }
   ],
   "source": [
    "my_list"
   ]
  },
  {
   "cell_type": "code",
   "execution_count": 25,
   "id": "f10121df-c00e-4c16-9b0c-dea877833ae2",
   "metadata": {},
   "outputs": [],
   "source": [
    "t=(1,2,3,4)"
   ]
  },
  {
   "cell_type": "code",
   "execution_count": 26,
   "id": "4995a1c0-16f4-41a5-a011-58e41b9549bc",
   "metadata": {},
   "outputs": [
    {
     "data": {
      "text/plain": [
       "(1, 2, 3, 4)"
      ]
     },
     "execution_count": 26,
     "metadata": {},
     "output_type": "execute_result"
    }
   ],
   "source": [
    "t\n"
   ]
  },
  {
   "cell_type": "code",
   "execution_count": 29,
   "id": "01a14886-966d-4e12-8199-3d5923e4e116",
   "metadata": {},
   "outputs": [],
   "source": [
    "d={'NAME':'Anjana','age':20}"
   ]
  },
  {
   "cell_type": "code",
   "execution_count": 30,
   "id": "4620adde-d005-405e-a027-d5021b82e00a",
   "metadata": {},
   "outputs": [
    {
     "data": {
      "text/plain": [
       "{'NAME': 'Anjana', 'age': 20}"
      ]
     },
     "execution_count": 30,
     "metadata": {},
     "output_type": "execute_result"
    }
   ],
   "source": [
    "d"
   ]
  },
  {
   "cell_type": "code",
   "execution_count": 31,
   "id": "9dd98e03-c52f-4c39-84b8-fe4fa50ef865",
   "metadata": {},
   "outputs": [
    {
     "data": {
      "text/plain": [
       "20"
      ]
     },
     "execution_count": 31,
     "metadata": {},
     "output_type": "execute_result"
    }
   ],
   "source": [
    "d['age']"
   ]
  },
  {
   "cell_type": "code",
   "execution_count": 32,
   "id": "4acb1d4b-cca6-4ecf-9e53-2252fe72e1dd",
   "metadata": {},
   "outputs": [
    {
     "data": {
      "text/plain": [
       "'Anjana'"
      ]
     },
     "execution_count": 32,
     "metadata": {},
     "output_type": "execute_result"
    }
   ],
   "source": [
    "d['NAME']"
   ]
  },
  {
   "cell_type": "code",
   "execution_count": 33,
   "id": "36d80d81-937e-43c9-b0de-b535ebc4171d",
   "metadata": {},
   "outputs": [
    {
     "data": {
      "text/plain": [
       "{1, 2, 3, 4}"
      ]
     },
     "execution_count": 33,
     "metadata": {},
     "output_type": "execute_result"
    }
   ],
   "source": [
    "{1,2,3,2,2,3,2,4,3}"
   ]
  },
  {
   "cell_type": "code",
   "execution_count": 34,
   "id": "505e903b-6a2e-4848-b7b4-520fd864a1fb",
   "metadata": {},
   "outputs": [],
   "source": [
    "def time2(var):\n",
    "    return var*2"
   ]
  },
  {
   "cell_type": "code",
   "execution_count": 37,
   "id": "d2c94676-dcf4-47ed-8a4a-a14712b7a488",
   "metadata": {},
   "outputs": [
    {
     "data": {
      "text/plain": [
       "4"
      ]
     },
     "execution_count": 37,
     "metadata": {},
     "output_type": "execute_result"
    }
   ],
   "source": [
    "time2(2)"
   ]
  },
  {
   "cell_type": "code",
   "execution_count": 38,
   "id": "0ce89b05-076c-4cc2-a1ae-a59ac0113032",
   "metadata": {},
   "outputs": [],
   "source": [
    "time2=lambda var:var*2\n"
   ]
  },
  {
   "cell_type": "code",
   "execution_count": 39,
   "id": "85aac2c3-c6ad-4a1a-ae03-59a79cabeea8",
   "metadata": {},
   "outputs": [
    {
     "name": "stdout",
     "output_type": "stream",
     "text": [
      "4\n"
     ]
    }
   ],
   "source": [
    "print(time2(2))"
   ]
  },
  {
   "cell_type": "code",
   "execution_count": 40,
   "id": "b9c91d8f-4622-4f9d-aac7-d5696ad8bf56",
   "metadata": {},
   "outputs": [],
   "source": [
    "x=[1,2,3,4]"
   ]
  },
  {
   "cell_type": "code",
   "execution_count": 48,
   "id": "76d55209-31ab-4b7c-9a45-fdb54879b3bc",
   "metadata": {},
   "outputs": [
    {
     "name": "stdout",
     "output_type": "stream",
     "text": [
      "[1, 4, 9, 16]\n"
     ]
    }
   ],
   "source": [
    "out=[]\n",
    "for item in x:\n",
    "    out.append(item**2)\n",
    "print(out)"
   ]
  },
  {
   "cell_type": "code",
   "execution_count": 49,
   "id": "71f12cf6-0634-4a6d-88f7-2f2db71ea6fc",
   "metadata": {},
   "outputs": [
    {
     "data": {
      "text/plain": [
       "[1, 4, 9, 16]"
      ]
     },
     "execution_count": 49,
     "metadata": {},
     "output_type": "execute_result"
    }
   ],
   "source": [
    "[item**2 for item in x]"
   ]
  },
  {
   "cell_type": "code",
   "execution_count": 54,
   "id": "26cdd08c-438b-4090-9022-d6e170dda83e",
   "metadata": {},
   "outputs": [
    {
     "name": "stdout",
     "output_type": "stream",
     "text": [
      "My name is:Anjana,my number is:20\n"
     ]
    }
   ],
   "source": [
    "print(\"My name is:{},my number is:{}\".format('Anjana',20))"
   ]
  },
  {
   "cell_type": "code",
   "execution_count": 63,
   "id": "7c7306ac-32b2-4907-8343-6266509e427f",
   "metadata": {},
   "outputs": [],
   "source": [
    "num = 12\n",
    "name= 'Sam'\n"
   ]
  },
  {
   "cell_type": "code",
   "execution_count": 67,
   "id": "5f76fd2c-e1bc-4d9e-8ddf-75db2ef8cf62",
   "metadata": {},
   "outputs": [
    {
     "name": "stdout",
     "output_type": "stream",
     "text": [
      "My name is:Sam,my age is:12\n"
     ]
    }
   ],
   "source": [
    "print(\"My name is:{two},my age is:{one}\".format(one = num, two = name))"
   ]
  },
  {
   "cell_type": "code",
   "execution_count": null,
   "id": "80818728-e565-4840-a2f6-b5b1ea8029e3",
   "metadata": {},
   "outputs": [],
   "source": []
  }
 ],
 "metadata": {
  "kernelspec": {
   "display_name": "Python 3 (Intel® oneAPI 2023.2)",
   "language": "python",
   "name": "c009-intel_distribution_of_python_3_oneapi-beta05-python"
  },
  "language_info": {
   "codemirror_mode": {
    "name": "ipython",
    "version": 3
   },
   "file_extension": ".py",
   "mimetype": "text/x-python",
   "name": "python",
   "nbconvert_exporter": "python",
   "pygments_lexer": "ipython3",
   "version": "3.9.16"
  }
 },
 "nbformat": 4,
 "nbformat_minor": 5
}
